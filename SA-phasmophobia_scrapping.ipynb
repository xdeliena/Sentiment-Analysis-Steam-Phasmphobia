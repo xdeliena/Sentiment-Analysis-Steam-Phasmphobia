{
  "nbformat": 4,
  "nbformat_minor": 0,
  "metadata": {
    "colab": {
      "provenance": []
    },
    "kernelspec": {
      "name": "python3",
      "display_name": "Python 3"
    },
    "language_info": {
      "name": "python"
    }
  },
  "cells": [
    {
      "cell_type": "code",
      "source": [],
      "metadata": {
        "id": "8ThodFCNGP8B"
      },
      "execution_count": null,
      "outputs": []
    },
    {
      "cell_type": "code",
      "execution_count": null,
      "metadata": {
        "id": "eZeHa9SvmVij",
        "collapsed": true
      },
      "outputs": [],
      "source": [
        "!pip install steamreviews\n",
        "import steamreviews"
      ]
    },
    {
      "cell_type": "code",
      "source": [
        "#Positive\n",
        "import steamreviews\n",
        "request_params = dict()\n",
        "# Reference: https://partner.steamgames.com/doc/store/localization#supported_languages\n",
        "request_params['language'] = 'english'\n",
        "# Reference: https://partner.steamgames.com/doc/store/getreviews\n",
        "request_params['review_type'] = 'positive'\n",
        "request_params['purchase_type'] = 'steam'\n",
        "request_params['day_range'] = '10'\n",
        "\n",
        "app_id = 739630\n",
        "review_dict, query_count = steamreviews.download_reviews_for_app_id(app_id,\n",
        "                                                                    chosen_request_params=request_params)"
      ],
      "metadata": {
        "id": "JeKtNYn7miZF",
        "collapsed": true
      },
      "execution_count": null,
      "outputs": []
    },
    {
      "cell_type": "code",
      "source": [
        "#Negative\n",
        "request_params = dict()\n",
        "# Reference: https://partner.steamgames.com/doc/store/localization#supported_languages\n",
        "request_params['language'] = 'english'\n",
        "# Reference: https://partner.steamgames.com/doc/store/getreviews\n",
        "request_params['review_type'] = 'negative'\n",
        "request_params['purchase_type'] = 'steam'\n",
        "request_params['day_range'] = '190'\n",
        "\n",
        "app_id = 739630\n",
        "review_dict, query_count = steamreviews.download_reviews_for_app_id(app_id,\n",
        "                                                                    chosen_request_params=request_params)"
      ],
      "metadata": {
        "id": "tF4RHl9ToKcc"
      },
      "execution_count": null,
      "outputs": []
    }
  ]
}